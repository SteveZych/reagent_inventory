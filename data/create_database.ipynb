{
 "cells": [
  {
   "cell_type": "code",
   "execution_count": 2,
   "id": "522111af",
   "metadata": {},
   "outputs": [],
   "source": [
    "#imports\n",
    "from sqlalchemy import create_engine\n",
    "import sqlite3\n",
    "import pandas as pd"
   ]
  },
  {
   "cell_type": "code",
   "execution_count": 3,
   "id": "5bbac6ac",
   "metadata": {},
   "outputs": [
    {
     "data": {
      "text/html": [
       "<div>\n",
       "<style scoped>\n",
       "    .dataframe tbody tr th:only-of-type {\n",
       "        vertical-align: middle;\n",
       "    }\n",
       "\n",
       "    .dataframe tbody tr th {\n",
       "        vertical-align: top;\n",
       "    }\n",
       "\n",
       "    .dataframe thead th {\n",
       "        text-align: right;\n",
       "    }\n",
       "</style>\n",
       "<table border=\"1\" class=\"dataframe\">\n",
       "  <thead>\n",
       "    <tr style=\"text-align: right;\">\n",
       "      <th></th>\n",
       "      <th>section</th>\n",
       "      <th>reagent_name</th>\n",
       "      <th>lot_number</th>\n",
       "      <th>expiration_date</th>\n",
       "      <th>received_date</th>\n",
       "      <th>quantity</th>\n",
       "    </tr>\n",
       "  </thead>\n",
       "  <tbody>\n",
       "  </tbody>\n",
       "</table>\n",
       "</div>"
      ],
      "text/plain": [
       "Empty DataFrame\n",
       "Columns: [section, reagent_name, lot_number, expiration_date, received_date, quantity]\n",
       "Index: []"
      ]
     },
     "execution_count": 3,
     "metadata": {},
     "output_type": "execute_result"
    }
   ],
   "source": [
    "# Create empty table with columns\n",
    "reagents_df = pd.DataFrame(columns = ['section','reagent_name','lot_number','expiration_date','received_date','quantity'])\n",
    "reagents_df"
   ]
  },
  {
   "cell_type": "code",
   "execution_count": 6,
   "id": "90b27507",
   "metadata": {},
   "outputs": [],
   "source": [
    "reagents_df['section'] = reagents_df['section'].astype(str)\n",
    "reagents_df['reagent_name'] = reagents_df['reagent_name'].astype(str)\n",
    "reagents_df['lot_number'] = reagents_df['lot_number'].astype(float)\n",
    "reagents_df['expiration_date'] = reagents_df['expiration_date'].astype('datetime64[ns]')\n",
    "reagents_df['received_date'] = reagents_df['received_date'].astype('datetime64[ns]')\n",
    "reagents_df['quantity'] = reagents_df['quantity'].astype(float)"
   ]
  },
  {
   "cell_type": "code",
   "execution_count": 7,
   "id": "79c4e3d5",
   "metadata": {},
   "outputs": [],
   "source": [
    "engine = create_engine('sqlite:///reagents.sqlite', echo=True)\n",
    "sqlite_connection = engine.connect()"
   ]
  },
  {
   "cell_type": "code",
   "execution_count": 8,
   "id": "db6ac67f",
   "metadata": {},
   "outputs": [
    {
     "name": "stdout",
     "output_type": "stream",
     "text": [
      "2021-07-26 21:54:08,868 INFO sqlalchemy.engine.Engine PRAGMA main.table_info(\"reagents\")\n",
      "2021-07-26 21:54:08,870 INFO sqlalchemy.engine.Engine [raw sql] ()\n",
      "2021-07-26 21:54:08,873 INFO sqlalchemy.engine.Engine PRAGMA main.table_info(\"reagents\")\n",
      "2021-07-26 21:54:08,874 INFO sqlalchemy.engine.Engine [raw sql] ()\n",
      "2021-07-26 21:54:08,877 INFO sqlalchemy.engine.Engine SELECT name FROM sqlite_master WHERE type='table' ORDER BY name\n",
      "2021-07-26 21:54:08,878 INFO sqlalchemy.engine.Engine [raw sql] ()\n",
      "2021-07-26 21:54:08,881 INFO sqlalchemy.engine.Engine PRAGMA main.table_xinfo(\"reagents\")\n",
      "2021-07-26 21:54:08,882 INFO sqlalchemy.engine.Engine [raw sql] ()\n",
      "2021-07-26 21:54:08,885 INFO sqlalchemy.engine.Engine SELECT sql FROM  (SELECT * FROM sqlite_master UNION ALL   SELECT * FROM sqlite_temp_master) WHERE name = ? AND type = 'table'\n",
      "2021-07-26 21:54:08,886 INFO sqlalchemy.engine.Engine [raw sql] ('reagents',)\n",
      "2021-07-26 21:54:08,889 INFO sqlalchemy.engine.Engine PRAGMA main.foreign_key_list(\"reagents\")\n",
      "2021-07-26 21:54:08,889 INFO sqlalchemy.engine.Engine [raw sql] ()\n",
      "2021-07-26 21:54:08,891 INFO sqlalchemy.engine.Engine PRAGMA temp.foreign_key_list(\"reagents\")\n",
      "2021-07-26 21:54:08,892 INFO sqlalchemy.engine.Engine [raw sql] ()\n",
      "2021-07-26 21:54:08,893 INFO sqlalchemy.engine.Engine SELECT sql FROM  (SELECT * FROM sqlite_master UNION ALL   SELECT * FROM sqlite_temp_master) WHERE name = ? AND type = 'table'\n",
      "2021-07-26 21:54:08,894 INFO sqlalchemy.engine.Engine [raw sql] ('reagents',)\n",
      "2021-07-26 21:54:08,897 INFO sqlalchemy.engine.Engine PRAGMA main.index_list(\"reagents\")\n",
      "2021-07-26 21:54:08,898 INFO sqlalchemy.engine.Engine [raw sql] ()\n",
      "2021-07-26 21:54:08,901 INFO sqlalchemy.engine.Engine PRAGMA main.index_info(\"ix_reagents_index\")\n",
      "2021-07-26 21:54:08,902 INFO sqlalchemy.engine.Engine [raw sql] ()\n",
      "2021-07-26 21:54:08,904 INFO sqlalchemy.engine.Engine PRAGMA main.index_list(\"reagents\")\n",
      "2021-07-26 21:54:08,905 INFO sqlalchemy.engine.Engine [raw sql] ()\n",
      "2021-07-26 21:54:08,907 INFO sqlalchemy.engine.Engine PRAGMA main.index_info(\"ix_reagents_index\")\n",
      "2021-07-26 21:54:08,912 INFO sqlalchemy.engine.Engine [raw sql] ()\n",
      "2021-07-26 21:54:08,914 INFO sqlalchemy.engine.Engine SELECT sql FROM  (SELECT * FROM sqlite_master UNION ALL   SELECT * FROM sqlite_temp_master) WHERE name = ? AND type = 'table'\n",
      "2021-07-26 21:54:08,915 INFO sqlalchemy.engine.Engine [raw sql] ('reagents',)\n",
      "2021-07-26 21:54:08,920 INFO sqlalchemy.engine.Engine \n",
      "DROP TABLE reagents\n",
      "2021-07-26 21:54:08,921 INFO sqlalchemy.engine.Engine [no key 0.00086s] ()\n",
      "2021-07-26 21:54:08,924 INFO sqlalchemy.engine.Engine COMMIT\n",
      "2021-07-26 21:54:08,927 INFO sqlalchemy.engine.Engine \n",
      "CREATE TABLE reagents (\n",
      "\t\"index\" TEXT, \n",
      "\tsection TEXT, \n",
      "\treagent_name TEXT, \n",
      "\tlot_number FLOAT, \n",
      "\texpiration_date DATETIME, \n",
      "\treceived_date DATETIME, \n",
      "\tquantity FLOAT\n",
      ")\n",
      "\n",
      "\n",
      "2021-07-26 21:54:08,929 INFO sqlalchemy.engine.Engine [no key 0.00130s] ()\n",
      "2021-07-26 21:54:08,932 INFO sqlalchemy.engine.Engine COMMIT\n",
      "2021-07-26 21:54:08,933 INFO sqlalchemy.engine.Engine CREATE INDEX ix_reagents_index ON reagents (\"index\")\n",
      "2021-07-26 21:54:08,934 INFO sqlalchemy.engine.Engine [no key 0.00113s] ()\n",
      "2021-07-26 21:54:08,937 INFO sqlalchemy.engine.Engine COMMIT\n"
     ]
    }
   ],
   "source": [
    "sqlite_table = \"reagents\"\n",
    "reagents_df.to_sql(sqlite_table, sqlite_connection, if_exists='replace')"
   ]
  },
  {
   "cell_type": "code",
   "execution_count": 9,
   "id": "47a2444b",
   "metadata": {},
   "outputs": [],
   "source": [
    "sqlite_connection.close()"
   ]
  },
  {
   "cell_type": "code",
   "execution_count": null,
   "id": "4ce98f84",
   "metadata": {},
   "outputs": [],
   "source": []
  }
 ],
 "metadata": {
  "kernelspec": {
   "display_name": "Python 3",
   "language": "python",
   "name": "python3"
  },
  "language_info": {
   "codemirror_mode": {
    "name": "ipython",
    "version": 3
   },
   "file_extension": ".py",
   "mimetype": "text/x-python",
   "name": "python",
   "nbconvert_exporter": "python",
   "pygments_lexer": "ipython3",
   "version": "3.6.10"
  }
 },
 "nbformat": 4,
 "nbformat_minor": 5
}
